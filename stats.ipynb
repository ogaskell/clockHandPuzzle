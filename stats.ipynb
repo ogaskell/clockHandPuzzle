{
 "cells": [
  {
   "cell_type": "markdown",
   "metadata": {},
   "source": [
    "### Instructions:  \n",
    "Put session name in 'Session Name Here:' Field between the quotes, then click Kernel > Restart & Run All"
   ]
  },
  {
   "cell_type": "markdown",
   "metadata": {},
   "source": [
    "Import libraries"
   ]
  },
  {
   "cell_type": "code",
   "execution_count": null,
   "metadata": {},
   "outputs": [],
   "source": [
    "import statistics\n",
    "import matplotlib\n",
    "import matplotlib.pyplot as plt\n",
    "\n",
    "%matplotlib inline"
   ]
  },
  {
   "cell_type": "markdown",
   "metadata": {},
   "source": [
    "Utility functions"
   ]
  },
  {
   "cell_type": "code",
   "execution_count": null,
   "metadata": {},
   "outputs": [],
   "source": [
    "def split_list(func, cell_data):\n",
    "\n",
    "    result = []\n",
    "\n",
    "    temp = []\n",
    "\n",
    "    for cell in cell_data:\n",
    "        if func(cell):\n",
    "            result.append(temp)\n",
    "            temp = []\n",
    "        else:\n",
    "            temp.append(cell)\n",
    "\n",
    "    return result"
   ]
  },
  {
   "cell_type": "markdown",
   "metadata": {},
   "source": [
    "## Session Name Here:\n",
    "Format: `YYYY-MM-DD-hh-mm-ss`"
   ]
  },
  {
   "cell_type": "code",
   "execution_count": null,
   "metadata": {},
   "outputs": [],
   "source": [
    "session = '2019-07-10-16-28-25'"
   ]
  },
  {
   "cell_type": "markdown",
   "metadata": {},
   "source": [
    "Open the session file and read its data:"
   ]
  },
  {
   "cell_type": "code",
   "execution_count": null,
   "metadata": {},
   "outputs": [],
   "source": [
    "filename = 'log-'+session+'.csv'\n",
    "file = open(filename,'r')\n",
    "data = file.read()\n",
    "file.close()"
   ]
  },
  {
   "cell_type": "markdown",
   "metadata": {},
   "source": [
    "Format raw data from file so python can use it, and get all rotate events:"
   ]
  },
  {
   "cell_type": "code",
   "execution_count": null,
   "metadata": {},
   "outputs": [],
   "source": [
    "data = list(map(lambda x: x.split(','), data.split('\\n')))\n",
    "clicks = [row for row in data if row[0]=='rotate']"
   ]
  },
  {
   "cell_type": "markdown",
   "metadata": {},
   "source": [
    "## Time to solve the puzzle:"
   ]
  },
  {
   "cell_type": "code",
   "execution_count": null,
   "metadata": {},
   "outputs": [],
   "source": [
    "try:\n",
    "    timetosolve = int([row for row in data if row[0]==\"solve\"][0][1])-int([row for row in data if row[0]==\"start\"][0][1])\n",
    "    print('Time to solve:',timetosolve/1000,'seconds')\n",
    "except IndexError:\n",
    "    print(\"Not solved.\")"
   ]
  },
  {
   "cell_type": "markdown",
   "metadata": {},
   "source": [
    "Get all hand turns, discard unneeded data"
   ]
  },
  {
   "cell_type": "code",
   "execution_count": null,
   "metadata": {},
   "outputs": [],
   "source": [
    "turns = [(row[2],row[3],row[4]) for row in clicks]"
   ]
  },
  {
   "cell_type": "markdown",
   "metadata": {},
   "source": [
    "Get list of hand co-ordinates"
   ]
  },
  {
   "cell_type": "code",
   "execution_count": null,
   "metadata": {},
   "outputs": [],
   "source": [
    "%%capture \n",
    "coords = set()\n",
    "[coords.add((n[0],n[1])) for n in turns]"
   ]
  },
  {
   "cell_type": "markdown",
   "metadata": {},
   "source": [
    "## Click Stats:"
   ]
  },
  {
   "cell_type": "code",
   "execution_count": null,
   "metadata": {},
   "outputs": [],
   "source": [
    "tot_redundant = 0\n",
    "for n in coords:\n",
    "    left = turns.count(n + tuple(['-1']))\n",
    "    right = turns.count(n + tuple(['1']))\n",
    "    redundant = sorted([left,right])[0]*2\n",
    "    print(str(n),'-',redundant,'\\n')\n",
    "    tot_redundant += redundant\n",
    "\n",
    "print('Total Clicks:         ',len(clicks))\n",
    "print('Total Redundant turns:',tot_redundant)\n",
    "print('        as % of total:','{:05.2f}'.format((tot_redundant*100)/len(clicks))+\"%\")"
   ]
  },
  {
   "cell_type": "markdown",
   "metadata": {},
   "source": [
    "Process data for graphing:"
   ]
  },
  {
   "cell_type": "code",
   "execution_count": null,
   "metadata": {},
   "outputs": [],
   "source": [
    "mouse_events = [row for row in data if row[0]=='mouse']\n",
    "mouse_events_x = list(map(int,[row[2] for row in mouse_events]))\n",
    "mouse_events_y = list(map(int,[row[3] for row in mouse_events]))\n",
    "\n",
    "click_events = [row for row in data if row[0]=='click']\n",
    "click_events_x = list(map(int,[row[2] for row in click_events]))\n",
    "click_events_y = list(map(int,[row[3] for row in click_events]))\n",
    "\n",
    "button0 = [(int(row[2]),int(row[3])) for row in data if row[0]=='button0_pos' or row[0]=='button0_size']\n",
    "button1 = [(int(row[2]),int(row[3])) for row in data if row[0]=='button1_pos' or row[0]=='button1_size']\n",
    "button2 = [(int(row[2]),int(row[3])) for row in data if row[0]=='button2_pos' or row[0]=='button2_size']\n",
    "button3 = [(int(row[2]),int(row[3])) for row in data if row[0]=='button3_pos' or row[0]=='button3_size']\n",
    "canvas = [(int(row[2]),int(row[3])) for row in data if row[0]=='canvas_pos' or row[0]=='canvas_size']\n",
    "hand00 = [(canvas[0][0],canvas[0][1]),        (250,             250)]\n",
    "hand01 = [(canvas[0][0],canvas[0][1]+250),    (250,             canvas[1][1]-250)]\n",
    "hand10 = [(canvas[0][0]+250,canvas[0][1]),    (250,             250)]\n",
    "hand11 = [(canvas[0][0]+250,canvas[0][1]+250),(250,             canvas[1][1]-250)]\n",
    "hand20 = [(canvas[0][0]+500,canvas[0][1]),    (canvas[1][0]-500,250)]\n",
    "hand21 = [(canvas[0][0]+500,canvas[0][1]+250),(canvas[1][0]-500,canvas[1][1]-250)]\n",
    "\n",
    "items = [button0,button1,button2,button3,canvas,hand00,hand01,hand10,hand11,hand20,hand21]\n",
    "item_plots_x = [[item[0][0],item[0][0]+item[1][0],item[0][0]+item[1][0],item[0][0],item[0][0]] for item in items]\n",
    "item_plots_y = [[item[0][1],item[0][1],item[0][1]+item[1][1],item[0][1]+item[1][1],item[0][1]] for item in items]\n",
    "\n",
    "win_dimensions = [[row[2],row[3]] for row in data if row[0]=='win_dimensions']\n",
    "\n",
    "func = lambda x: x==-1\n",
    "mouse_events_x = split_list(func, mouse_events_x)\n",
    "mouse_events_y = split_list(func, mouse_events_y)"
   ]
  },
  {
   "cell_type": "markdown",
   "metadata": {},
   "source": [
    "## Mouse movement graph:"
   ]
  },
  {
   "cell_type": "code",
   "execution_count": null,
   "metadata": {},
   "outputs": [],
   "source": [
    "plt.figure(dpi=2400)\n",
    "for index in range(len(item_plots_x)):\n",
    "    plt.plot(item_plots_x[index], item_plots_y[index], '-k',linewidth=0.1)\n",
    "for index in range(len(mouse_events_x)):\n",
    "    plt.plot(mouse_events_x[index], mouse_events_y[index], '-or',linewidth=0.25,markersize=0.75)\n",
    "plt.plot(click_events_x,click_events_y,'ob',markersize=2)\n",
    "plt.axis([0, int(win_dimensions[0][0]), 0, int(win_dimensions[0][1])])\n",
    "plt.xticks(range(0,int(win_dimensions[0][0]),100))\n",
    "plt.yticks(range(0,int(win_dimensions[0][1]),100))\n",
    "plt.gca().invert_yaxis()\n",
    "plt.show()"
   ]
  },
  {
   "cell_type": "markdown",
   "metadata": {},
   "source": [
    "Red:   Mouse movement, dots every 25ms (1/40s)  \n",
    "Blue:  Mouse Clicks  \n",
    "Black: UI Elements  "
   ]
  }
 ],
 "metadata": {
  "kernelspec": {
   "display_name": "Python 3",
   "language": "python",
   "name": "python3"
  },
  "language_info": {
   "codemirror_mode": {
    "name": "ipython",
    "version": 3
   },
   "file_extension": ".py",
   "mimetype": "text/x-python",
   "name": "python",
   "nbconvert_exporter": "python",
   "pygments_lexer": "ipython3",
   "version": "3.7.3"
  }
 },
 "nbformat": 4,
 "nbformat_minor": 2
}
