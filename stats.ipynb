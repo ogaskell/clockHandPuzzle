{
 "cells": [
  {
   "cell_type": "code",
   "execution_count": 1,
   "metadata": {},
   "outputs": [],
   "source": [
    "import statistics"
   ]
  },
  {
   "cell_type": "code",
   "execution_count": 38,
   "metadata": {},
   "outputs": [],
   "source": [
    "#session name\n",
    "session = '2019-07-10-11-01-51'"
   ]
  },
  {
   "cell_type": "code",
   "execution_count": 39,
   "metadata": {},
   "outputs": [],
   "source": [
    "filename = 'log-'+session+'.csv'\n",
    "file = open(filename,'r')\n",
    "data = file.read()\n",
    "file.close()"
   ]
  },
  {
   "cell_type": "code",
   "execution_count": 40,
   "metadata": {},
   "outputs": [],
   "source": [
    "data = list(map(lambda x: x.split(','), data.split('\\n')))"
   ]
  },
  {
   "cell_type": "code",
   "execution_count": 41,
   "metadata": {},
   "outputs": [
    {
     "name": "stdout",
     "output_type": "stream",
     "text": [
      "Time to solve: 29.856 seconds\n"
     ]
    }
   ],
   "source": [
    "timetosolve = int(data[-2][1])-int(data[1][1])\n",
    "print('Time to solve:',timetosolve/1000,'seconds')"
   ]
  },
  {
   "cell_type": "code",
   "execution_count": 42,
   "metadata": {},
   "outputs": [
    {
     "data": {
      "text/plain": [
       "[('0', '1', '-1'),\n",
       " ('0', '1', '1'),\n",
       " ('1', '0', '-1'),\n",
       " ('1', '0', '-1'),\n",
       " ('1', '0', '-1'),\n",
       " ('1', '0', '-1'),\n",
       " ('1', '0', '-1'),\n",
       " ('1', '0', '1'),\n",
       " ('1', '1', '1'),\n",
       " ('1', '1', '1'),\n",
       " ('1', '1', '1'),\n",
       " ('2', '0', '-1'),\n",
       " ('2', '0', '-1'),\n",
       " ('2', '1', '-1'),\n",
       " ('2', '1', '1'),\n",
       " ('2', '1', '1')]"
      ]
     },
     "execution_count": 42,
     "metadata": {},
     "output_type": "execute_result"
    }
   ],
   "source": [
    "turns = [(row[2],row[3],row[4]) for row in data[:-1]][2:-2]\n",
    "sorted(turns)"
   ]
  },
  {
   "cell_type": "code",
   "execution_count": 43,
   "metadata": {},
   "outputs": [
    {
     "data": {
      "text/plain": [
       "{('0', '1'), ('1', '0'), ('1', '1'), ('2', '0'), ('2', '1')}"
      ]
     },
     "execution_count": 43,
     "metadata": {},
     "output_type": "execute_result"
    }
   ],
   "source": [
    "coords = set()\n",
    "[coords.add((n[0],n[1])) for n in turns]\n",
    "coords"
   ]
  },
  {
   "cell_type": "code",
   "execution_count": 44,
   "metadata": {},
   "outputs": [
    {
     "name": "stdout",
     "output_type": "stream",
     "text": [
      "('0', '1') - 2 \n",
      "\n",
      "('2', '0') - 0 \n",
      "\n",
      "('2', '1') - 2 \n",
      "\n",
      "('1', '0') - 2 \n",
      "\n",
      "('1', '1') - 0 \n",
      "\n",
      "Total Redundant turns: 6\n"
     ]
    }
   ],
   "source": [
    "tot_redundant = 0\n",
    "for n in coords:\n",
    "    left = turns.count(n + tuple(['-1']))\n",
    "    right = turns.count(n + tuple(['1']))\n",
    "    redundant = sorted([left,right])[0]*2\n",
    "    print(str(n),'-',redundant,'\\n')\n",
    "    tot_redundant += redundant\n",
    "\n",
    "print('Total Redundant turns:',tot_redundant)"
   ]
  },
  {
   "cell_type": "code",
   "execution_count": null,
   "metadata": {},
   "outputs": [],
   "source": []
  },
  {
   "cell_type": "code",
   "execution_count": null,
   "metadata": {},
   "outputs": [],
   "source": []
  }
 ],
 "metadata": {
  "kernelspec": {
   "display_name": "Python 3",
   "language": "python",
   "name": "python3"
  },
  "language_info": {
   "codemirror_mode": {
    "name": "ipython",
    "version": 3
   },
   "file_extension": ".py",
   "mimetype": "text/x-python",
   "name": "python",
   "nbconvert_exporter": "python",
   "pygments_lexer": "ipython3",
   "version": "3.7.3"
  }
 },
 "nbformat": 4,
 "nbformat_minor": 2
}
